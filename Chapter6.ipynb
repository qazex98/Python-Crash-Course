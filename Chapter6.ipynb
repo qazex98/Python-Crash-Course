{
 "cells": [
  {
   "cell_type": "markdown",
   "id": "b902c786",
   "metadata": {},
   "source": [
    "# Dictionaries"
   ]
  },
  {
   "cell_type": "markdown",
   "id": "7c6ecb87",
   "metadata": {},
   "source": [
    "## A simple Dictionary"
   ]
  },
  {
   "cell_type": "code",
   "execution_count": 1,
   "id": "80092336",
   "metadata": {},
   "outputs": [
    {
     "name": "stdout",
     "output_type": "stream",
     "text": [
      "green\n",
      "5\n"
     ]
    }
   ],
   "source": [
    "alien_0 = {'color': 'green', 'points': 5}\n",
    "\n",
    "print(alien_0['color'])\n",
    "print(alien_0['points'])"
   ]
  },
  {
   "cell_type": "markdown",
   "id": "0d630f1c",
   "metadata": {},
   "source": [
    "## Working with Dictionaries"
   ]
  },
  {
   "cell_type": "markdown",
   "id": "196897fe",
   "metadata": {},
   "source": [
    "### Accessing values in a Dictionary"
   ]
  },
  {
   "cell_type": "code",
   "execution_count": 2,
   "id": "eedd5e0b",
   "metadata": {},
   "outputs": [
    {
     "name": "stdout",
     "output_type": "stream",
     "text": [
      "green\n"
     ]
    }
   ],
   "source": [
    "alien_0 = {'color': 'green'}\n",
    "print(alien_0['color'])"
   ]
  },
  {
   "cell_type": "code",
   "execution_count": 3,
   "id": "633bcaf0",
   "metadata": {},
   "outputs": [
    {
     "name": "stdout",
     "output_type": "stream",
     "text": [
      "You just earned 5 points!\n"
     ]
    }
   ],
   "source": [
    "alien_0 = {'color': 'green', 'points': 5}\n",
    "\n",
    "new_points = alien_0['points']\n",
    "print(\"You just earned \" + str(new_points) + \" points!\")"
   ]
  },
  {
   "cell_type": "markdown",
   "id": "12442606",
   "metadata": {},
   "source": [
    "### Adding new key-value pairs"
   ]
  },
  {
   "cell_type": "code",
   "execution_count": 4,
   "id": "9e67bd15",
   "metadata": {},
   "outputs": [
    {
     "name": "stdout",
     "output_type": "stream",
     "text": [
      "{'color': 'green', 'points': 5}\n"
     ]
    },
    {
     "data": {
      "text/plain": [
       "{'color': 'green', 'points': 5, 'x_position': 0, 'y_position': 25}"
      ]
     },
     "execution_count": 4,
     "metadata": {},
     "output_type": "execute_result"
    }
   ],
   "source": [
    "print(alien_0)\n",
    "\n",
    "alien_0['x_position'] = 0\n",
    "alien_0['y_position'] = 25\n",
    "alien_0"
   ]
  },
  {
   "cell_type": "markdown",
   "id": "14fdda99",
   "metadata": {},
   "source": [
    "### Starting with an empty Dictionary"
   ]
  },
  {
   "cell_type": "code",
   "execution_count": 5,
   "id": "1f1a9b76",
   "metadata": {},
   "outputs": [
    {
     "data": {
      "text/plain": [
       "{'color': 'green', 'points': 5}"
      ]
     },
     "execution_count": 5,
     "metadata": {},
     "output_type": "execute_result"
    }
   ],
   "source": [
    "alien_0 = {}\n",
    "\n",
    "alien_0['color'] = 'green'\n",
    "alien_0['points'] = 5\n",
    "\n",
    "alien_0"
   ]
  },
  {
   "cell_type": "markdown",
   "id": "3262bd81",
   "metadata": {},
   "source": [
    "### Modifying values in a Dictionary"
   ]
  },
  {
   "cell_type": "code",
   "execution_count": 6,
   "id": "fdaf290a",
   "metadata": {},
   "outputs": [
    {
     "name": "stdout",
     "output_type": "stream",
     "text": [
      "The alien is green.\n",
      "The alien is now yellow.\n"
     ]
    }
   ],
   "source": [
    "alien_0 = {'color': 'green'}\n",
    "print(\"The alien is \" + alien_0['color'] + \".\")\n",
    "\n",
    "alien_0['color'] = 'yellow'\n",
    "print(\"The alien is now \" + alien_0['color'] + \".\")"
   ]
  },
  {
   "cell_type": "code",
   "execution_count": 7,
   "id": "b89fdf53",
   "metadata": {},
   "outputs": [
    {
     "name": "stdout",
     "output_type": "stream",
     "text": [
      "Original x-position: 0\n",
      "New x-position: 2\n"
     ]
    }
   ],
   "source": [
    "alien_0 = {'x_position': 0, 'y_position': 25, 'speed': 'medium'}\n",
    "print(\"Original x-position: \" + str(alien_0['x_position']))\n",
    "\n",
    "# Move the alien to the right\n",
    "# Determine how far to move the alien based on its current speed\n",
    "if alien_0['speed'] == 'slow':\n",
    "    x_increment = 1\n",
    "elif alien_0['speed'] == 'medium':\n",
    "    x_increment = 2\n",
    "else:\n",
    "    # This must be a fast alien\n",
    "    x_increment = 3\n",
    "    \n",
    "# The new position is the old position plus the increment\n",
    "alien_0['x_position'] = alien_0['x_position'] + x_increment\n",
    "\n",
    "print(\"New x-position: \" + str(alien_0['x_position']))"
   ]
  },
  {
   "cell_type": "markdown",
   "id": "c3597a14",
   "metadata": {},
   "source": [
    "### Removing key-value pairs"
   ]
  },
  {
   "cell_type": "code",
   "execution_count": 8,
   "id": "37ac3150",
   "metadata": {},
   "outputs": [
    {
     "name": "stdout",
     "output_type": "stream",
     "text": [
      "{'color': 'green', 'points': 5}\n"
     ]
    },
    {
     "data": {
      "text/plain": [
       "{'color': 'green'}"
      ]
     },
     "execution_count": 8,
     "metadata": {},
     "output_type": "execute_result"
    }
   ],
   "source": [
    "alien_0 = {'color': 'green', 'points': 5}\n",
    "print(alien_0)\n",
    "\n",
    "del alien_0['points']\n",
    "alien_0"
   ]
  },
  {
   "cell_type": "markdown",
   "id": "414bba52",
   "metadata": {},
   "source": [
    "### A Dictionary with similar objects"
   ]
  },
  {
   "cell_type": "code",
   "execution_count": 9,
   "id": "a291e409",
   "metadata": {},
   "outputs": [
    {
     "name": "stdout",
     "output_type": "stream",
     "text": [
      "Sarah's favorite language is C.\n"
     ]
    }
   ],
   "source": [
    "favorite_languages = {\n",
    "    'jen': 'python',\n",
    "    'sarah': 'c',\n",
    "    'edward': 'ruby',\n",
    "    'phil': 'python'\n",
    "}\n",
    "\n",
    "print(\"Sarah's favorite language is \" + favorite_languages['sarah'].title() + \".\")"
   ]
  },
  {
   "cell_type": "markdown",
   "id": "6c69e54a",
   "metadata": {},
   "source": [
    "## Looping through a dictionary"
   ]
  },
  {
   "cell_type": "markdown",
   "id": "7be486f1",
   "metadata": {},
   "source": [
    "### Looping through all key-value pairs"
   ]
  },
  {
   "cell_type": "code",
   "execution_count": 10,
   "id": "bc78657c",
   "metadata": {},
   "outputs": [
    {
     "name": "stdout",
     "output_type": "stream",
     "text": [
      "\n",
      "Key: username\n",
      "Value: efermi\n",
      "\n",
      "Key: first\n",
      "Value: enrico\n",
      "\n",
      "Key: last\n",
      "Value: fermi\n"
     ]
    }
   ],
   "source": [
    "user_0 = {\n",
    "    'username': 'efermi',\n",
    "    'first': 'enrico',\n",
    "    'last': 'fermi'\n",
    "}\n",
    "\n",
    "for key, value in user_0.items():\n",
    "    print(\"\\nKey: \" + key)\n",
    "    print(\"Value: \" + value)"
   ]
  },
  {
   "cell_type": "code",
   "execution_count": 11,
   "id": "f09da06a",
   "metadata": {},
   "outputs": [
    {
     "name": "stdout",
     "output_type": "stream",
     "text": [
      "Jen's favorite language is Python.\n",
      "Sarah's favorite language is C.\n",
      "Edward's favorite language is Ruby.\n",
      "Phil's favorite language is Python.\n"
     ]
    }
   ],
   "source": [
    "for name, language in favorite_languages.items():\n",
    "    print(name.title() + \"'s favorite language is \" + language.title() + \".\")"
   ]
  },
  {
   "cell_type": "markdown",
   "id": "cb2c84cc",
   "metadata": {},
   "source": [
    "### Looping through all the keys in a Dictionary"
   ]
  },
  {
   "cell_type": "code",
   "execution_count": 12,
   "id": "c4248c05",
   "metadata": {},
   "outputs": [
    {
     "name": "stdout",
     "output_type": "stream",
     "text": [
      "Jen\n",
      "Sarah\n",
      "Edward\n",
      "Phil\n"
     ]
    }
   ],
   "source": [
    "for name in favorite_languages.keys():\n",
    "    print(name.title())"
   ]
  },
  {
   "cell_type": "code",
   "execution_count": 13,
   "id": "37b25651",
   "metadata": {},
   "outputs": [
    {
     "name": "stdout",
     "output_type": "stream",
     "text": [
      "Jen\n",
      "Sarah\n",
      "  Hi Sarah, I see your favorite language is C!\n",
      "Edward\n",
      "Phil\n",
      "  Hi Phil, I see your favorite language is Python!\n"
     ]
    }
   ],
   "source": [
    "friends = ['phil', 'sarah']\n",
    "for name in favorite_languages.keys():\n",
    "    print(name.title())\n",
    "    \n",
    "    if name in friends:\n",
    "        print(\"  Hi \" + name.title() + \", I see your favorite language is \" + favorite_languages[name].title() + \"!\")"
   ]
  },
  {
   "cell_type": "code",
   "execution_count": 14,
   "id": "12c01056",
   "metadata": {},
   "outputs": [
    {
     "name": "stdout",
     "output_type": "stream",
     "text": [
      "Erin, please take our poll!\n"
     ]
    }
   ],
   "source": [
    "if 'erin' not in favorite_languages.keys():\n",
    "    print(\"Erin, please take our poll!\")"
   ]
  },
  {
   "cell_type": "markdown",
   "id": "152c65e2",
   "metadata": {},
   "source": [
    "### Looping through a Dictionary's keys in order"
   ]
  },
  {
   "cell_type": "code",
   "execution_count": 15,
   "id": "316c284e",
   "metadata": {},
   "outputs": [
    {
     "name": "stdout",
     "output_type": "stream",
     "text": [
      "Edward, thank you for taking the poll.\n",
      "Jen, thank you for taking the poll.\n",
      "Phil, thank you for taking the poll.\n",
      "Sarah, thank you for taking the poll.\n"
     ]
    }
   ],
   "source": [
    "for name in sorted(favorite_languages.keys()):\n",
    "    print(name.title() + \", thank you for taking the poll.\")"
   ]
  },
  {
   "cell_type": "markdown",
   "id": "3a62de39",
   "metadata": {},
   "source": [
    "### Looping through all values in a Dictionary"
   ]
  },
  {
   "cell_type": "code",
   "execution_count": 16,
   "id": "0f2bda80",
   "metadata": {},
   "outputs": [
    {
     "name": "stdout",
     "output_type": "stream",
     "text": [
      "The following languages have been mentioned:\n",
      "Python\n",
      "C\n",
      "Ruby\n",
      "Python\n"
     ]
    }
   ],
   "source": [
    "print(\"The following languages have been mentioned:\")\n",
    "for language in favorite_languages.values():\n",
    "    print(language.title())"
   ]
  },
  {
   "cell_type": "code",
   "execution_count": 17,
   "id": "d2f124ac",
   "metadata": {},
   "outputs": [
    {
     "name": "stdout",
     "output_type": "stream",
     "text": [
      "The following languages have been mentioned:\n",
      "Ruby\n",
      "C\n",
      "Python\n"
     ]
    }
   ],
   "source": [
    "# In order to retrieve the unique values of a Dictionary\n",
    "print(\"The following languages have been mentioned:\")\n",
    "for language in set(favorite_languages.values()):\n",
    "    print(language.title())"
   ]
  },
  {
   "cell_type": "markdown",
   "id": "bd5fe8b5",
   "metadata": {},
   "source": [
    "## Nesting"
   ]
  },
  {
   "cell_type": "markdown",
   "id": "ed513744",
   "metadata": {},
   "source": [
    "### A List of Dictionaries"
   ]
  },
  {
   "cell_type": "code",
   "execution_count": 18,
   "id": "c2dd3ad3",
   "metadata": {},
   "outputs": [
    {
     "name": "stdout",
     "output_type": "stream",
     "text": [
      "{'color': 'green', 'points': 5}\n",
      "{'color': 'yellow', 'points': 10}\n",
      "{'color': 'red', 'points': 15}\n"
     ]
    }
   ],
   "source": [
    "alien_0 = {'color': 'green', 'points': 5}\n",
    "alien_1 = {'color': 'yellow', 'points': 10}\n",
    "alien_2 = {'color': 'red', 'points': 15}\n",
    "\n",
    "aliens = [alien_0, alien_1, alien_2]\n",
    "\n",
    "for alien in aliens:\n",
    "    print(alien)"
   ]
  },
  {
   "cell_type": "code",
   "execution_count": 19,
   "id": "37aaa23e",
   "metadata": {},
   "outputs": [
    {
     "name": "stdout",
     "output_type": "stream",
     "text": [
      "{'color': 'green', 'points': 5, 'speed': 'slow'}\n",
      "{'color': 'green', 'points': 5, 'speed': 'slow'}\n",
      "{'color': 'green', 'points': 5, 'speed': 'slow'}\n",
      "{'color': 'green', 'points': 5, 'speed': 'slow'}\n",
      "{'color': 'green', 'points': 5, 'speed': 'slow'}\n",
      "...\n",
      "Total number of aliens: 30\n"
     ]
    }
   ],
   "source": [
    "# Make an empty list for storing aliens\n",
    "aliens = []\n",
    "\n",
    "# Make 30 green aliens\n",
    "for alien_number in range(30):\n",
    "    new_alien = {'color': 'green', 'points': 5, 'speed': 'slow'}\n",
    "    aliens.append(new_alien)\n",
    "\n",
    "# Show the first 5 aliens\n",
    "for alien in aliens[:5]:\n",
    "    print(alien)\n",
    "print(\"...\")\n",
    "    \n",
    "# Show how many aliens have been created\n",
    "print(\"Total number of aliens: \" + str(len(aliens)))"
   ]
  },
  {
   "cell_type": "code",
   "execution_count": 20,
   "id": "47233226",
   "metadata": {},
   "outputs": [
    {
     "name": "stdout",
     "output_type": "stream",
     "text": [
      "{'color': 'yellow', 'points': 10, 'speed': 'medium'}\n",
      "{'color': 'yellow', 'points': 10, 'speed': 'medium'}\n",
      "{'color': 'yellow', 'points': 10, 'speed': 'medium'}\n",
      "{'color': 'green', 'points': 5, 'speed': 'slow'}\n",
      "{'color': 'green', 'points': 5, 'speed': 'slow'}\n",
      "...\n",
      "Total number of aliens: 30\n"
     ]
    }
   ],
   "source": [
    "# Making the first 3 aliens have yellow color, medium speed and worth more points\n",
    "# Make an empty list for storing aliens\n",
    "aliens = []\n",
    "\n",
    "# Make 30 green aliens\n",
    "for alien_number in range(30):\n",
    "    new_alien = {'color': 'green', 'points': 5, 'speed': 'slow'}\n",
    "    aliens.append(new_alien)\n",
    "\n",
    "for alien in aliens[:3]:\n",
    "    if alien['color'] == 'green':\n",
    "        alien['color'] = 'yellow'\n",
    "        alien['points'] = 10\n",
    "        alien['speed'] = 'medium'\n",
    "\n",
    "# Show the first 5 aliens\n",
    "for alien in aliens[:5]:\n",
    "    print(alien)\n",
    "print(\"...\")\n",
    "    \n",
    "# Show how many aliens have been created\n",
    "print(\"Total number of aliens: \" + str(len(aliens)))"
   ]
  },
  {
   "cell_type": "markdown",
   "id": "1c5074ad",
   "metadata": {},
   "source": [
    "### A List in a Dictionary"
   ]
  },
  {
   "cell_type": "code",
   "execution_count": 21,
   "id": "1626b74e",
   "metadata": {},
   "outputs": [
    {
     "name": "stdout",
     "output_type": "stream",
     "text": [
      "You ordered a thick-crust pizza with the following toppings:\n",
      "\tmushrooms\n",
      "\textra cheese\n"
     ]
    }
   ],
   "source": [
    "# Store information about a pizza being ordered\n",
    "pizza = {\n",
    "    'crust': 'thick',\n",
    "    'toppings': ['mushrooms', 'extra cheese']\n",
    "}\n",
    "\n",
    "# Summarize the order\n",
    "print(\"You ordered a \" + pizza['crust'] + \"-crust pizza \" + \"with the following toppings:\")\n",
    "for topping in pizza['toppings']:\n",
    "    print(\"\\t\" + topping)"
   ]
  },
  {
   "cell_type": "code",
   "execution_count": 22,
   "id": "bdb3dd6d",
   "metadata": {},
   "outputs": [
    {
     "name": "stdout",
     "output_type": "stream",
     "text": [
      "\n",
      "Jen's favorite languages are:\n",
      "\tPython\n",
      "\tRuby\n",
      "\n",
      "Sarah's favorite languages are:\n",
      "\tC\n",
      "\n",
      "Edward's favorite languages are:\n",
      "\tRuby\n",
      "\tGo\n",
      "\n",
      "Phil's favorite languages are:\n",
      "\tPython\n",
      "\tHaskell\n"
     ]
    }
   ],
   "source": [
    "favorite_languages = {\n",
    "    'jen': ['python', 'ruby'],\n",
    "    'sarah': ['c'],\n",
    "    'edward': ['ruby', 'go'],\n",
    "    'phil': ['python', 'haskell']\n",
    "}\n",
    "\n",
    "for name, languages in favorite_languages.items():\n",
    "    print(\"\\n\" + name.title() + \"'s favorite languages are:\")\n",
    "    for language in languages:\n",
    "        print(\"\\t\" + language.title())"
   ]
  },
  {
   "cell_type": "markdown",
   "id": "b87d5beb",
   "metadata": {},
   "source": [
    "### A Dictionary in a Dictionary"
   ]
  },
  {
   "cell_type": "code",
   "execution_count": 23,
   "id": "b8dc13c2",
   "metadata": {},
   "outputs": [
    {
     "name": "stdout",
     "output_type": "stream",
     "text": [
      "\n",
      "Username: aeinstein\n",
      "\tFull name: Albert Einstein\n",
      "\tLocation: Princeton\n",
      "\n",
      "Username: mcurie\n",
      "\tFull name: Marie Curie\n",
      "\tLocation: Paris\n"
     ]
    }
   ],
   "source": [
    "users = {\n",
    "    'aeinstein': {\n",
    "        'first': 'albert',\n",
    "        'last': 'einstein',\n",
    "        'location': 'princeton'\n",
    "    },\n",
    "    'mcurie': {\n",
    "        'first': 'marie',\n",
    "        'last': 'curie',\n",
    "        'location': 'paris'\n",
    "    }\n",
    "}\n",
    "\n",
    "for username, user_info in users.items():\n",
    "    print(\"\\nUsername: \" + username)\n",
    "    full_name = user_info['first'] + \" \" + user_info['last']\n",
    "    location = user_info['location']\n",
    "    \n",
    "    print(\"\\tFull name: \" + full_name.title())\n",
    "    print(\"\\tLocation: \" + location.title())"
   ]
  }
 ],
 "metadata": {
  "kernelspec": {
   "display_name": "Python 3 (ipykernel)",
   "language": "python",
   "name": "python3"
  },
  "language_info": {
   "codemirror_mode": {
    "name": "ipython",
    "version": 3
   },
   "file_extension": ".py",
   "mimetype": "text/x-python",
   "name": "python",
   "nbconvert_exporter": "python",
   "pygments_lexer": "ipython3",
   "version": "3.11.5"
  }
 },
 "nbformat": 4,
 "nbformat_minor": 5
}
