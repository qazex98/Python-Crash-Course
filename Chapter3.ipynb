{
 "cells": [
  {
   "cell_type": "markdown",
   "id": "5d05add6",
   "metadata": {},
   "source": [
    "# Introducing Lists"
   ]
  },
  {
   "cell_type": "code",
   "execution_count": 1,
   "id": "3b5c4ecf",
   "metadata": {},
   "outputs": [
    {
     "data": {
      "text/plain": [
       "['trek', 'cannondale', 'redline', 'specialized']"
      ]
     },
     "execution_count": 1,
     "metadata": {},
     "output_type": "execute_result"
    }
   ],
   "source": [
    "bicycles = ['trek', 'cannondale', 'redline', 'specialized']\n",
    "bicycles"
   ]
  },
  {
   "cell_type": "markdown",
   "id": "177b47de",
   "metadata": {},
   "source": [
    "### Accessing Elements in a List"
   ]
  },
  {
   "cell_type": "code",
   "execution_count": 2,
   "id": "99f1c8d9",
   "metadata": {},
   "outputs": [
    {
     "data": {
      "text/plain": [
       "'trek'"
      ]
     },
     "execution_count": 2,
     "metadata": {},
     "output_type": "execute_result"
    }
   ],
   "source": [
    "#Accessing the first element\n",
    "bicycles[0]"
   ]
  },
  {
   "cell_type": "code",
   "execution_count": 3,
   "id": "341593f2",
   "metadata": {},
   "outputs": [
    {
     "data": {
      "text/plain": [
       "'Trek'"
      ]
     },
     "execution_count": 3,
     "metadata": {},
     "output_type": "execute_result"
    }
   ],
   "source": [
    "#You can also use String methods on elements of a list\n",
    "bicycles[0].title()"
   ]
  },
  {
   "cell_type": "code",
   "execution_count": 4,
   "id": "98ee06e3",
   "metadata": {},
   "outputs": [
    {
     "name": "stdout",
     "output_type": "stream",
     "text": [
      "cannondale\n",
      "specialized\n"
     ]
    }
   ],
   "source": [
    "print(bicycles[1])\n",
    "print(bicycles[3])"
   ]
  },
  {
   "cell_type": "code",
   "execution_count": 5,
   "id": "c33be156",
   "metadata": {},
   "outputs": [
    {
     "data": {
      "text/plain": [
       "'specialized'"
      ]
     },
     "execution_count": 5,
     "metadata": {},
     "output_type": "execute_result"
    }
   ],
   "source": [
    "#Accessing the last element\n",
    "bicycles[-1]"
   ]
  },
  {
   "cell_type": "markdown",
   "id": "d511a497",
   "metadata": {},
   "source": [
    "### Using individual values from a List"
   ]
  },
  {
   "cell_type": "code",
   "execution_count": 6,
   "id": "0979c6e8",
   "metadata": {},
   "outputs": [
    {
     "name": "stdout",
     "output_type": "stream",
     "text": [
      "My first bicycle was a Trek.\n"
     ]
    }
   ],
   "source": [
    "message = \"My first bicycle was a \" + bicycles[0].title() + \".\"\n",
    "print(message)"
   ]
  },
  {
   "cell_type": "markdown",
   "id": "63446a47",
   "metadata": {},
   "source": [
    "## Changing, Adding, and Removing Elements"
   ]
  },
  {
   "cell_type": "markdown",
   "id": "b7e988a5",
   "metadata": {},
   "source": [
    "### Modifying Elements in a List"
   ]
  },
  {
   "cell_type": "code",
   "execution_count": 7,
   "id": "4f38b086",
   "metadata": {},
   "outputs": [
    {
     "name": "stdout",
     "output_type": "stream",
     "text": [
      "['honda', 'yamaha', 'suzuki']\n",
      "['ducati', 'yamaha', 'suzuki']\n"
     ]
    }
   ],
   "source": [
    "motorcycles = ['honda', 'yamaha', 'suzuki']\n",
    "print(motorcycles)\n",
    "\n",
    "motorcycles[0] = 'ducati'\n",
    "print(motorcycles)"
   ]
  },
  {
   "cell_type": "markdown",
   "id": "ba58c1f3",
   "metadata": {},
   "source": [
    "### Adding Elements to a List"
   ]
  },
  {
   "cell_type": "markdown",
   "id": "c24a4cd8",
   "metadata": {},
   "source": [
    "#### Appending Elements to the end of the List"
   ]
  },
  {
   "cell_type": "code",
   "execution_count": 8,
   "id": "436e4784",
   "metadata": {},
   "outputs": [
    {
     "name": "stdout",
     "output_type": "stream",
     "text": [
      "['honda', 'yamaha', 'suzuki', 'ducati']\n"
     ]
    }
   ],
   "source": [
    "motorcycles = ['honda', 'yamaha', 'suzuki']\n",
    "motorcycles.append('ducati')\n",
    "print(motorcycles)"
   ]
  },
  {
   "cell_type": "code",
   "execution_count": 9,
   "id": "bfcabc0c",
   "metadata": {},
   "outputs": [
    {
     "data": {
      "text/plain": [
       "['honda', 'yamaha', 'suzuki']"
      ]
     },
     "execution_count": 9,
     "metadata": {},
     "output_type": "execute_result"
    }
   ],
   "source": [
    "motorcycles = []\n",
    "motorcycles.append('honda')\n",
    "motorcycles.append('yamaha')\n",
    "motorcycles.append('suzuki')\n",
    "\n",
    "motorcycles"
   ]
  },
  {
   "cell_type": "markdown",
   "id": "e91ace7e",
   "metadata": {},
   "source": [
    "#### Inserting Elements into a list"
   ]
  },
  {
   "cell_type": "code",
   "execution_count": 10,
   "id": "598fbdbf",
   "metadata": {},
   "outputs": [
    {
     "data": {
      "text/plain": [
       "['ducati', 'honda', 'yamaha', 'suzuki']"
      ]
     },
     "execution_count": 10,
     "metadata": {},
     "output_type": "execute_result"
    }
   ],
   "source": [
    "motorcycles.insert(0, 'ducati')\n",
    "motorcycles"
   ]
  },
  {
   "cell_type": "markdown",
   "id": "4dda8d22",
   "metadata": {},
   "source": [
    "### Removing Elements from a List"
   ]
  },
  {
   "cell_type": "markdown",
   "id": "81744f3d",
   "metadata": {},
   "source": [
    "#### Removing an Item using the del Statement"
   ]
  },
  {
   "cell_type": "code",
   "execution_count": 11,
   "id": "3ed630a4",
   "metadata": {},
   "outputs": [
    {
     "data": {
      "text/plain": [
       "['honda', 'yamaha', 'suzuki']"
      ]
     },
     "execution_count": 11,
     "metadata": {},
     "output_type": "execute_result"
    }
   ],
   "source": [
    "del motorcycles[0]\n",
    "motorcycles"
   ]
  },
  {
   "cell_type": "code",
   "execution_count": 12,
   "id": "31d69ec6",
   "metadata": {},
   "outputs": [
    {
     "data": {
      "text/plain": [
       "['honda', 'suzuki']"
      ]
     },
     "execution_count": 12,
     "metadata": {},
     "output_type": "execute_result"
    }
   ],
   "source": [
    "del motorcycles[1]\n",
    "motorcycles"
   ]
  },
  {
   "cell_type": "markdown",
   "id": "bfc221e6",
   "metadata": {},
   "source": [
    "#### Removing an Item using the pop() method"
   ]
  },
  {
   "cell_type": "code",
   "execution_count": 13,
   "id": "86c980eb",
   "metadata": {},
   "outputs": [
    {
     "name": "stdout",
     "output_type": "stream",
     "text": [
      "['honda', 'yamaha', 'suzuki']\n",
      "['honda', 'yamaha']\n",
      "suzuki\n"
     ]
    }
   ],
   "source": [
    "motorcycles = ['honda', 'yamaha', 'suzuki']\n",
    "print(motorcycles)\n",
    "\n",
    "popped_motorcycle = motorcycles.pop()\n",
    "print(motorcycles)\n",
    "print(popped_motorcycle)"
   ]
  },
  {
   "cell_type": "code",
   "execution_count": 14,
   "id": "881b0597",
   "metadata": {},
   "outputs": [
    {
     "name": "stdout",
     "output_type": "stream",
     "text": [
      "The last motorcycle I owned was a Suzuki.\n"
     ]
    }
   ],
   "source": [
    "motorcycles = ['honda', 'yamaha', 'suzuki']\n",
    "\n",
    "last_owned = motorcycles.pop()\n",
    "print(\"The last motorcycle I owned was a \" + last_owned.title() + \".\")"
   ]
  },
  {
   "cell_type": "markdown",
   "id": "fef66114",
   "metadata": {},
   "source": [
    "#### Popping Items from any Position in a List"
   ]
  },
  {
   "cell_type": "code",
   "execution_count": 15,
   "id": "fc7924f4",
   "metadata": {},
   "outputs": [
    {
     "name": "stdout",
     "output_type": "stream",
     "text": [
      "The first motorcycle I owned was a Honda.\n"
     ]
    }
   ],
   "source": [
    "motorcycles = ['honda', 'yamaha', 'suzuki']\n",
    "first_owned = motorcycles.pop(0)\n",
    "print(\"The first motorcycle I owned was a \" + first_owned.title() + \".\")"
   ]
  },
  {
   "cell_type": "markdown",
   "id": "d6d53a59",
   "metadata": {},
   "source": [
    "#### Removing an Item by Value"
   ]
  },
  {
   "cell_type": "code",
   "execution_count": 16,
   "id": "21883741",
   "metadata": {},
   "outputs": [
    {
     "name": "stdout",
     "output_type": "stream",
     "text": [
      "['honda', 'yamaha', 'suzuki', 'ducati']\n",
      "['honda', 'yamaha', 'suzuki']\n"
     ]
    }
   ],
   "source": [
    "motorcycles = ['honda', 'yamaha', 'suzuki', 'ducati']\n",
    "print(motorcycles)\n",
    "\n",
    "motorcycles.remove('ducati')\n",
    "print(motorcycles)"
   ]
  },
  {
   "cell_type": "code",
   "execution_count": 17,
   "id": "d4a5a97f",
   "metadata": {},
   "outputs": [
    {
     "name": "stdout",
     "output_type": "stream",
     "text": [
      "['honda', 'yamaha', 'suzuki', 'ducati']\n",
      "['honda', 'yamaha', 'suzuki']\n",
      "A Ducati is too expensive for me.\n"
     ]
    }
   ],
   "source": [
    "motorcycles = ['honda', 'yamaha', 'suzuki', 'ducati']\n",
    "print(motorcycles)\n",
    "\n",
    "too_expensive = 'ducati'\n",
    "motorcycles.remove(too_expensive)\n",
    "print(motorcycles)\n",
    "print(\"A \" + too_expensive.title() + \" is too expensive for me.\")"
   ]
  },
  {
   "cell_type": "markdown",
   "id": "cdb1f810",
   "metadata": {},
   "source": [
    "## Organizing a List"
   ]
  },
  {
   "cell_type": "markdown",
   "id": "5ea72c32",
   "metadata": {},
   "source": [
    "### Sorting a List Premanently with the sort() Method"
   ]
  },
  {
   "cell_type": "code",
   "execution_count": 18,
   "id": "fc6d5e09",
   "metadata": {},
   "outputs": [
    {
     "name": "stdout",
     "output_type": "stream",
     "text": [
      "['audi', 'bmw', 'subaru', 'toyota']\n"
     ]
    }
   ],
   "source": [
    "cars = ['bmw', 'audi', 'toyota', 'subaru']\n",
    "cars.sort()\n",
    "print(cars)"
   ]
  },
  {
   "cell_type": "code",
   "execution_count": 19,
   "id": "191d7022",
   "metadata": {},
   "outputs": [
    {
     "name": "stdout",
     "output_type": "stream",
     "text": [
      "['toyota', 'subaru', 'bmw', 'audi']\n"
     ]
    }
   ],
   "source": [
    "cars = ['bmw', 'audi', 'toyota', 'subaru']\n",
    "cars.sort(reverse=True)\n",
    "print(cars)"
   ]
  },
  {
   "cell_type": "markdown",
   "id": "fa5a7527",
   "metadata": {},
   "source": [
    "### Sorting a List Temporarily with the sorted() Function"
   ]
  },
  {
   "cell_type": "code",
   "execution_count": 20,
   "id": "6bf113ea",
   "metadata": {},
   "outputs": [
    {
     "name": "stdout",
     "output_type": "stream",
     "text": [
      "Here is the original list:\n",
      "['bmw', 'audi', 'toyota', 'subaru']\n",
      "Here is the sorted list:\n",
      "['audi', 'bmw', 'subaru', 'toyota']\n",
      "Here is the original list again:\n",
      "['bmw', 'audi', 'toyota', 'subaru']\n"
     ]
    }
   ],
   "source": [
    "cars = ['bmw', 'audi', 'toyota', 'subaru']\n",
    "\n",
    "print(\"Here is the original list:\")\n",
    "print(cars)\n",
    "\n",
    "print(\"Here is the sorted list:\")\n",
    "print(sorted(cars))\n",
    "\n",
    "print(\"Here is the original list again:\")\n",
    "print(cars)"
   ]
  },
  {
   "cell_type": "markdown",
   "id": "0cfe6370",
   "metadata": {},
   "source": [
    "### Printing a List in Reverese Order"
   ]
  },
  {
   "cell_type": "code",
   "execution_count": 21,
   "id": "d76ae30e",
   "metadata": {},
   "outputs": [
    {
     "name": "stdout",
     "output_type": "stream",
     "text": [
      "['bmw', 'audi', 'toyota', 'subaru']\n",
      "['subaru', 'toyota', 'audi', 'bmw']\n"
     ]
    }
   ],
   "source": [
    "cars = ['bmw', 'audi', 'toyota', 'subaru']\n",
    "print(cars)\n",
    "\n",
    "cars.reverse()\n",
    "print(cars)"
   ]
  },
  {
   "cell_type": "markdown",
   "id": "6f037756",
   "metadata": {},
   "source": [
    "### Finished the Length of a List"
   ]
  },
  {
   "cell_type": "code",
   "execution_count": 22,
   "id": "64c819c0",
   "metadata": {},
   "outputs": [
    {
     "data": {
      "text/plain": [
       "4"
      ]
     },
     "execution_count": 22,
     "metadata": {},
     "output_type": "execute_result"
    }
   ],
   "source": [
    "cars = ['bmw', 'audi', 'toyota', 'subaru']\n",
    "len(cars)"
   ]
  },
  {
   "cell_type": "markdown",
   "id": "a7919846",
   "metadata": {},
   "source": [
    "### Avoiding Index Errors when working with Lists"
   ]
  },
  {
   "cell_type": "code",
   "execution_count": 23,
   "id": "38c49fa2",
   "metadata": {},
   "outputs": [
    {
     "ename": "IndexError",
     "evalue": "list index out of range",
     "output_type": "error",
     "traceback": [
      "\u001b[0;31m---------------------------------------------------------------------------\u001b[0m",
      "\u001b[0;31mIndexError\u001b[0m                                Traceback (most recent call last)",
      "Cell \u001b[0;32mIn[23], line 2\u001b[0m\n\u001b[1;32m      1\u001b[0m motorcycles \u001b[38;5;241m=\u001b[39m [\u001b[38;5;124m'\u001b[39m\u001b[38;5;124mhonda\u001b[39m\u001b[38;5;124m'\u001b[39m, \u001b[38;5;124m'\u001b[39m\u001b[38;5;124myamaha\u001b[39m\u001b[38;5;124m'\u001b[39m, \u001b[38;5;124m'\u001b[39m\u001b[38;5;124msuzuki\u001b[39m\u001b[38;5;124m'\u001b[39m]\n\u001b[0;32m----> 2\u001b[0m \u001b[38;5;28mprint\u001b[39m(motorcycles[\u001b[38;5;241m3\u001b[39m])\n",
      "\u001b[0;31mIndexError\u001b[0m: list index out of range"
     ]
    }
   ],
   "source": [
    "motorcycles = ['honda', 'yamaha', 'suzuki']\n",
    "print(motorcycles[3])"
   ]
  },
  {
   "cell_type": "code",
   "execution_count": 24,
   "id": "6775a1a3",
   "metadata": {},
   "outputs": [
    {
     "data": {
      "text/plain": [
       "'suzuki'"
      ]
     },
     "execution_count": 24,
     "metadata": {},
     "output_type": "execute_result"
    }
   ],
   "source": [
    "motorcycles[-1]"
   ]
  },
  {
   "cell_type": "code",
   "execution_count": 25,
   "id": "53d5ef52",
   "metadata": {},
   "outputs": [
    {
     "ename": "IndexError",
     "evalue": "list index out of range",
     "output_type": "error",
     "traceback": [
      "\u001b[0;31m---------------------------------------------------------------------------\u001b[0m",
      "\u001b[0;31mIndexError\u001b[0m                                Traceback (most recent call last)",
      "Cell \u001b[0;32mIn[25], line 2\u001b[0m\n\u001b[1;32m      1\u001b[0m motorcycles \u001b[38;5;241m=\u001b[39m []\n\u001b[0;32m----> 2\u001b[0m motorcycles[\u001b[38;5;241m-\u001b[39m\u001b[38;5;241m1\u001b[39m]\n",
      "\u001b[0;31mIndexError\u001b[0m: list index out of range"
     ]
    }
   ],
   "source": [
    "motorcycles = []\n",
    "motorcycles[-1]"
   ]
  }
 ],
 "metadata": {
  "kernelspec": {
   "display_name": "Python 3 (ipykernel)",
   "language": "python",
   "name": "python3"
  },
  "language_info": {
   "codemirror_mode": {
    "name": "ipython",
    "version": 3
   },
   "file_extension": ".py",
   "mimetype": "text/x-python",
   "name": "python",
   "nbconvert_exporter": "python",
   "pygments_lexer": "ipython3",
   "version": "3.11.5"
  }
 },
 "nbformat": 4,
 "nbformat_minor": 5
}
